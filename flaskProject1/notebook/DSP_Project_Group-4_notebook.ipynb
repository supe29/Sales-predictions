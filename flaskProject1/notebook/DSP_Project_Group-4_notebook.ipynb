{
 "cells": [
  {
   "cell_type": "code",
   "execution_count": 1,
   "metadata": {},
   "outputs": [],
   "source": [
    "from pathlib import Path\n",
    "ROOT_DIR = Path('../')\n",
    "DATA_DIR = ROOT_DIR / 'data'\n",
    "MODELS_DIR = ROOT_DIR / 'models'\n",
    "\n",
    "train_filepath = DATA_DIR / 'bigmart_Train-Set.csv'\n",
    "test_filepath = DATA_DIR / 'bigmart_Test-Set.csv'"
   ]
  },
  {
   "cell_type": "code",
   "execution_count": 2,
   "metadata": {},
   "outputs": [
    {
     "data": {
      "text/plain": [
       "['C:\\\\Users\\\\HP\\\\DSP_Project_Group-4\\\\notebook',\n",
       " 'C:\\\\Users\\\\HP\\\\anaconda3\\\\python38.zip',\n",
       " 'C:\\\\Users\\\\HP\\\\anaconda3\\\\DLLs',\n",
       " 'C:\\\\Users\\\\HP\\\\anaconda3\\\\lib',\n",
       " 'C:\\\\Users\\\\HP\\\\anaconda3',\n",
       " '',\n",
       " 'C:\\\\Users\\\\HP\\\\anaconda3\\\\lib\\\\site-packages',\n",
       " 'C:\\\\Users\\\\HP\\\\anaconda3\\\\lib\\\\site-packages\\\\win32',\n",
       " 'C:\\\\Users\\\\HP\\\\anaconda3\\\\lib\\\\site-packages\\\\win32\\\\lib',\n",
       " 'C:\\\\Users\\\\HP\\\\anaconda3\\\\lib\\\\site-packages\\\\Pythonwin',\n",
       " 'C:\\\\Users\\\\HP\\\\anaconda3\\\\lib\\\\site-packages\\\\IPython\\\\extensions',\n",
       " 'C:\\\\Users\\\\HP\\\\.ipython',\n",
       " '../',\n",
       " '../app']"
      ]
     },
     "execution_count": 2,
     "metadata": {},
     "output_type": "execute_result"
    }
   ],
   "source": [
    "import sys\n",
    "sys.path.append('../')\n",
    "sys.path.append('../app')\n",
    "sys.path"
   ]
  },
  {
   "cell_type": "markdown",
   "metadata": {},
   "source": [
    "# Training pipeline"
   ]
  },
  {
   "cell_type": "code",
   "execution_count": 3,
   "metadata": {},
   "outputs": [
    {
     "name": "stdout",
     "output_type": "stream",
     "text": [
      "r2_score:  0.11532484666906295 , mean_absolute_error:  1152.2752922214047 , mean_squared_error:  1552.7596301336876\n"
     ]
    },
    {
     "data": {
      "text/plain": [
       "{'r2_score': 0.11532484666906295,\n",
       " 'mean_absolute_error': 1152.2752922214047,\n",
       " 'mean_squared_error': 1552.7596301336876}"
      ]
     },
     "execution_count": 3,
     "metadata": {},
     "output_type": "execute_result"
    }
   ],
   "source": [
    "from training import train\n",
    "\n",
    "dict = train(train_filepath, MODELS_DIR)\n",
    "dict"
   ]
  },
  {
   "cell_type": "markdown",
   "metadata": {},
   "source": [
    "# Inference pipeline"
   ]
  },
  {
   "cell_type": "code",
   "execution_count": 4,
   "metadata": {},
   "outputs": [
    {
     "name": "stdout",
     "output_type": "stream",
     "text": [
      "  ProductID  Weight FatContent  ProductVisibility ProductType  MRP OutletID  \\\n",
      "0    string       0     string                  0      string    0   string   \n",
      "\n",
      "   EstablishmentYear OutletSize LocationType OutletType  OutletSales  \n",
      "0                  0     string       string     string            0  \n",
      "530.8789590000003\n"
     ]
    },
    {
     "data": {
      "text/plain": [
       "array([1492.693639  , 1295.37334643, 3865.854514  , ..., 1853.766966  ,\n",
       "       3215.8579428 , 3254.66343   ])"
      ]
     },
     "execution_count": 4,
     "metadata": {},
     "output_type": "execute_result"
    }
   ],
   "source": [
    "from inference import inference\n",
    "\n",
    "inference(test_filepath, MODELS_DIR)"
   ]
  }
 ],
 "metadata": {
  "kernelspec": {
   "display_name": "Python 3",
   "language": "python",
   "name": "python3"
  },
  "language_info": {
   "codemirror_mode": {
    "name": "ipython",
    "version": 3
   },
   "file_extension": ".py",
   "mimetype": "text/x-python",
   "name": "python",
   "nbconvert_exporter": "python",
   "pygments_lexer": "ipython3",
   "version": "3.8.5"
  },
  "toc": {
   "base_numbering": 1,
   "nav_menu": {},
   "number_sections": true,
   "sideBar": true,
   "skip_h1_title": false,
   "title_cell": "Table of Contents",
   "title_sidebar": "Contents",
   "toc_cell": false,
   "toc_position": {},
   "toc_section_display": true,
   "toc_window_display": false
  }
 },
 "nbformat": 4,
 "nbformat_minor": 4
}
